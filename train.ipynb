{
 "cells": [
  {
   "cell_type": "code",
   "execution_count": 1,
   "metadata": {},
   "outputs": [],
   "source": [
    "%load_ext autoreload\n",
    "%autoreload 2\n",
    "import warnings\n",
    "warnings.simplefilter(\"ignore\", UserWarning)"
   ]
  },
  {
   "cell_type": "code",
   "execution_count": 2,
   "metadata": {},
   "outputs": [],
   "source": [
    "import numpy as np\n",
    "import torch"
   ]
  },
  {
   "cell_type": "code",
   "execution_count": 3,
   "metadata": {},
   "outputs": [],
   "source": [
    "train_on_gpu = torch.cuda.is_available()"
   ]
  },
  {
   "cell_type": "code",
   "execution_count": 4,
   "metadata": {},
   "outputs": [
    {
     "name": "stdout",
     "output_type": "stream",
     "text": [
      "CUDA is available!  Training on GPU ...\n"
     ]
    }
   ],
   "source": [
    "if not train_on_gpu:\n",
    "    print('CUDA is not available.  Training on CPU ...')\n",
    "else:\n",
    "    print('CUDA is available!  Training on GPU ...')"
   ]
  },
  {
   "cell_type": "code",
   "execution_count": 5,
   "metadata": {},
   "outputs": [],
   "source": [
    "from traing_data import GetSequence"
   ]
  },
  {
   "cell_type": "code",
   "execution_count": 6,
   "metadata": {},
   "outputs": [],
   "source": [
    "get_train = GetSequence()"
   ]
  },
  {
   "cell_type": "code",
   "execution_count": 7,
   "metadata": {},
   "outputs": [],
   "source": [
    "import time, math\n",
    "\n",
    "def time_since(since):\n",
    "    s = time.time() - since\n",
    "    m = math.floor(s / 60)\n",
    "    s -= m * 60\n",
    "    return '%dm %ds' % (m, s)"
   ]
  },
  {
   "cell_type": "code",
   "execution_count": 8,
   "metadata": {},
   "outputs": [],
   "source": [
    "import tqdm"
   ]
  },
  {
   "cell_type": "code",
   "execution_count": 9,
   "metadata": {},
   "outputs": [],
   "source": [
    "def train(model, model_opt, get_train):\n",
    "    hidden = model.init_hidden()\n",
    "    hidden = hidden.cuda()\n",
    "    model.zero_grad()\n",
    "    loss = 0\n",
    "    for i in tqdm.tqdm(range(5000)):\n",
    "        inp, target = get_train.get_train_data()\n",
    "        inp = inp.to(dtype=torch.float32)\n",
    "        target = target.to(dtype=torch.float32)\n",
    "        inp,target = inp.cuda(), target.cuda()\n",
    "        target = target.squeeze()\n",
    "        output, hidden = model(inp, hidden)\n",
    "        loss += criterion(output.squeeze(), target.unsqueeze(0))\n",
    "\n",
    "    loss.backward()\n",
    "    model_opt.step()\n",
    "\n",
    "    return loss.item() / (i+1)"
   ]
  },
  {
   "cell_type": "code",
   "execution_count": 10,
   "metadata": {},
   "outputs": [],
   "source": [
    "import torch\n",
    "import torch.nn as nn"
   ]
  },
  {
   "cell_type": "code",
   "execution_count": 11,
   "metadata": {},
   "outputs": [],
   "source": [
    "from model import RNN"
   ]
  },
  {
   "cell_type": "code",
   "execution_count": 12,
   "metadata": {},
   "outputs": [],
   "source": [
    "import matplotlib.pyplot as plt"
   ]
  },
  {
   "cell_type": "code",
   "execution_count": 13,
   "metadata": {},
   "outputs": [],
   "source": [
    "def evaluate(model, get_train,predict_len=10000, temperature=0.8):\n",
    "    model.eval()\n",
    "    hidden = model.init_hidden()\n",
    "    hidden = hidden.cuda()\n",
    "    inp, target = get_train.get_train_data()\n",
    "    inp = inp.to(dtype=torch.float32)\n",
    "    inp = inp.cuda()\n",
    "    temp = list()\n",
    "\n",
    "    # Use priming string to \"build up\" hidden state\n",
    "    for p in range(inp.shape[0]):\n",
    "        _, hidden = model(inp, hidden)\n",
    "    for p in range(predict_len):\n",
    "        output, hidden = model(inp, hidden)\n",
    "        temp.append(output.squeeze().tolist())\n",
    "    data = np.array(temp)\n",
    "    plt.plot(data)\n",
    "    plt.show()\n",
    "    model.train()"
   ]
  },
  {
   "cell_type": "code",
   "execution_count": null,
   "metadata": {
    "scrolled": false
   },
   "outputs": [
    {
     "name": "stderr",
     "output_type": "stream",
     "text": [
      "\r",
      "  0%|          | 0/5000 [00:00<?, ?it/s]"
     ]
    },
    {
     "name": "stdout",
     "output_type": "stream",
     "text": [
      "RNN(\n",
      "  (liner): Linear(in_features=5000, out_features=1000, bias=True)\n",
      "  (dropout): Dropout(p=0.3)\n",
      "  (gru): GRU(1000, 1000, num_layers=5)\n",
      "  (decoder): Linear(in_features=1000, out_features=5000, bias=True)\n",
      "  (liner2): Linear(in_features=5000, out_features=1, bias=True)\n",
      "  (softmax): LogSoftmax()\n",
      ")\n"
     ]
    },
    {
     "name": "stderr",
     "output_type": "stream",
     "text": [
      "100%|██████████| 5000/5000 [07:26<00:00, 11.38it/s]\n",
      "100%|██████████| 5000/5000 [07:12<00:00, 11.56it/s]\n",
      "100%|██████████| 5000/5000 [07:16<00:00, 11.38it/s]\n",
      "100%|██████████| 5000/5000 [07:20<00:00, 11.92it/s]\n",
      "100%|██████████| 5000/5000 [07:10<00:00, 11.60it/s]\n",
      "100%|██████████| 5000/5000 [07:15<00:00, 11.48it/s]\n",
      "100%|██████████| 5000/5000 [07:15<00:00, 11.00it/s]\n",
      "100%|██████████| 5000/5000 [07:17<00:00, 11.44it/s]\n",
      "100%|██████████| 5000/5000 [07:16<00:00, 10.80it/s]\n",
      "100%|██████████| 5000/5000 [07:29<00:00, 11.12it/s]\n",
      "100%|██████████| 5000/5000 [07:26<00:00, 11.20it/s]\n",
      "100%|██████████| 5000/5000 [07:37<00:00, 10.93it/s]\n",
      "100%|██████████| 5000/5000 [07:35<00:00, 10.68it/s]\n",
      "100%|██████████| 5000/5000 [07:29<00:00, 11.12it/s]\n",
      "100%|██████████| 5000/5000 [07:42<00:00,  9.32it/s]\n",
      "100%|██████████| 5000/5000 [07:33<00:00,  8.09it/s]\n",
      "100%|██████████| 5000/5000 [07:39<00:00,  9.63it/s]\n",
      "100%|██████████| 5000/5000 [07:32<00:00, 11.06it/s]\n",
      "100%|██████████| 5000/5000 [07:36<00:00, 13.41it/s]\n",
      "100%|██████████| 5000/5000 [07:32<00:00, 11.04it/s]\n"
     ]
    },
    {
     "name": "stdout",
     "output_type": "stream",
     "text": [
      "[152m 45s (20 2%) 0.2524]\n"
     ]
    },
    {
     "data": {
      "image/png": "[encoded data removed]",
      "text/plain": [
       "<Figure size 432x288 with 1 Axes>"
      ]
     },
     "metadata": {},
     "output_type": "display_data"
    },
    {
     "name": "stdout",
     "output_type": "stream",
     "text": [
      "None \n",
      "\n"
     ]
    },
    {
     "name": "stderr",
     "output_type": "stream",
     "text": [
      "100%|██████████| 5000/5000 [07:32<00:00, 14.82it/s]\n",
      "100%|██████████| 5000/5000 [07:37<00:00, 12.26it/s]\n",
      "100%|██████████| 5000/5000 [07:33<00:00, 11.02it/s]\n",
      "100%|██████████| 5000/5000 [07:30<00:00, 11.10it/s]\n",
      "100%|██████████| 5000/5000 [07:34<00:00, 10.97it/s]\n",
      "100%|██████████| 5000/5000 [07:28<00:00, 11.14it/s]\n",
      "100%|██████████| 5000/5000 [07:35<00:00, 10.08it/s]\n",
      "100%|██████████| 5000/5000 [07:33<00:00, 11.03it/s]\n",
      "100%|██████████| 5000/5000 [07:38<00:00, 13.29it/s]\n",
      "100%|██████████| 5000/5000 [07:38<00:00,  8.54it/s]\n",
      "100%|██████████| 5000/5000 [07:39<00:00, 10.88it/s]\n",
      "100%|██████████| 5000/5000 [07:37<00:00, 10.94it/s]\n",
      "100%|██████████| 5000/5000 [07:36<00:00, 10.95it/s]\n",
      "100%|██████████| 5000/5000 [07:34<00:00, 10.99it/s]\n",
      "100%|██████████| 5000/5000 [07:37<00:00, 10.93it/s]\n",
      "100%|██████████| 5000/5000 [07:19<00:00, 12.71it/s]\n",
      "100%|██████████| 5000/5000 [07:15<00:00, 11.49it/s]\n",
      "100%|██████████| 5000/5000 [07:14<00:00, 11.50it/s]\n",
      "100%|██████████| 5000/5000 [07:13<00:00, 11.53it/s]\n",
      "100%|██████████| 5000/5000 [07:16<00:00, 11.46it/s]\n"
     ]
    },
    {
     "name": "stdout",
     "output_type": "stream",
     "text": [
      "[307m 9s (40 4%) 0.2545]\n"
     ]
    },
    {
     "data": {
      "image/png": "[encoded data removed]",
      "text/plain": [
       "<Figure size 432x288 with 1 Axes>"
      ]
     },
     "metadata": {},
     "output_type": "display_data"
    },
    {
     "name": "stderr",
     "output_type": "stream",
     "text": [
      "\r",
      "  0%|          | 0/5000 [00:00<?, ?it/s]"
     ]
    },
    {
     "name": "stdout",
     "output_type": "stream",
     "text": [
      "None \n",
      "\n"
     ]
    },
    {
     "name": "stderr",
     "output_type": "stream",
     "text": [
      "100%|██████████| 5000/5000 [07:01<00:00, 11.86it/s]\n",
      "100%|██████████| 5000/5000 [07:11<00:00, 12.98it/s]\n",
      "100%|██████████| 5000/5000 [07:08<00:00, 11.67it/s]\n",
      "100%|██████████| 5000/5000 [07:19<00:00, 11.38it/s]\n",
      "100%|██████████| 5000/5000 [07:15<00:00, 10.08it/s]\n",
      "100%|██████████| 5000/5000 [07:15<00:00, 13.05it/s]\n",
      "100%|██████████| 5000/5000 [07:12<00:00, 11.56it/s]\n",
      "100%|██████████| 5000/5000 [07:17<00:00, 11.43it/s]\n",
      "100%|██████████| 5000/5000 [07:11<00:00, 11.59it/s]\n",
      "100%|██████████| 5000/5000 [07:24<00:00, 11.70it/s]\n",
      "100%|██████████| 5000/5000 [07:13<00:00, 11.52it/s]\n",
      "  5%|▌         | 260/5000 [00:22<10:34,  7.47it/s]"
     ]
    }
   ],
   "source": [
    "n_epochs = 1000\n",
    "plot_every = 10\n",
    "hidden_size = 100\n",
    "n_layers = 1\n",
    "lr = 0.01\n",
    "\n",
    "rnn = RNN(n_layers=5)\n",
    "rnn.cuda()\n",
    "print(rnn)\n",
    "rnn_opt = torch.optim.Adam(rnn.parameters(), lr=lr)\n",
    "criterion = nn.MSELoss().cuda()\n",
    "\n",
    "start = time.time()\n",
    "all_losses = []\n",
    "loss_avg = 0\n",
    "\n",
    "for epoch in range(1, n_epochs + 1):\n",
    "    loss = train(rnn, rnn_opt, get_train)       \n",
    "    loss_avg += loss\n",
    "\n",
    "    if epoch % 20 == 0:\n",
    "        print('[%s (%d %d%%) %.4f]' % (time_since(start), epoch, epoch / n_epochs * 100, loss))\n",
    "        print(evaluate(rnn, get_train), '\\n')\n",
    "        torch.save(rnn.state_dict(), 'model_cifar.pt')\n",
    "\n",
    "    if epoch % plot_every == 0:\n",
    "        all_losses.append(loss_avg / plot_every)\n",
    "        loss_avg = 0"
   ]
  },
  {
   "cell_type": "markdown",
   "metadata": {},
   "source": []
  },
  {
   "cell_type": "code",
   "execution_count": null,
   "metadata": {},
   "outputs": [],
   "source": [
    "nn.Dropout(p=0.3)"
   ]
  }
 ],
 "metadata": {
  "kernelspec": {
   "display_name": "Python 3",
   "language": "python",
   "name": "python3"
  },
  "language_info": {
   "codemirror_mode": {
    "name": "ipython",
    "version": 3
   },
   "file_extension": ".py",
   "mimetype": "text/x-python",
   "name": "python",
   "nbconvert_exporter": "python",
   "pygments_lexer": "ipython3",
   "version": "3.6.3"
  }
 },
 "nbformat": 4,
 "nbformat_minor": 2
}
